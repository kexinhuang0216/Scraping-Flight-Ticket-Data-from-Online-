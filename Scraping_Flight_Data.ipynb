{
 "cells": [
  {
   "cell_type": "code",
   "execution_count": 301,
   "metadata": {
    "collapsed": true
   },
   "outputs": [],
   "source": [
    "\"\"\" Classes and examples for searching for flights using SkyPicker. \"\"\"\n",
    "from __future__ import unicode_literals, absolute_import, generators, \\\n",
    "    print_function\n",
    "\n",
    "import requests\n",
    "import matplotlib.pyplot as plt\n",
    "from datetime import datetime\n",
    "from pandas import DataFrame "
   ]
  },
  {
   "cell_type": "code",
   "execution_count": 302,
   "metadata": {},
   "outputs": [
    {
     "data": {
      "text/plain": [
       "u' The code is largely based on the code from this github repository. Code for other flight ticket APIs is also available there\\n'"
      ]
     },
     "execution_count": 302,
     "metadata": {},
     "output_type": "execute_result"
    }
   ],
   "source": [
    "\"\"\" SkyPicker API reference that may help figure out different search parameters \"\"\"\n",
    "# https://ç.docs.apiary.io/#reference/flights/flights/get?console=1\n",
    "\"\"\" More exhaustive reference for the API \"\"\"\n",
    "# https://github.com/SScorp/Skypicker-apiary/blob/master/apiary.apib\n",
    "\"\"\" All possible parameters that can be fed to flight search \"\"\"\n",
    "# ## flights [/flights{?flyFrom,to,dateFrom,dateTo,longitudeFrom,\n",
    "# latitudeFrom,radiusFrom,longitudeTo,latitudeTo,radiusTo,\n",
    "# daysInDestinationFrom,daysInDestinationTo,returnFrom,returnTo,\n",
    "# maxFlyDuration,typeFlight,passengers,adults,children,infants,\n",
    "# flyDays,flyDaysType,returnFlyDays,returnFlyDaysType,oneforcity,\n",
    "# onlyWorkingDays,onlyWeekends,one_per_date,directFlights,locale,partner,partner_market,v,xml,curr,\n",
    "# locale,price_from,price_to,dtimefrom,dtimeto,atimefrom,atimeto,returndtimefrom,returndtimeto,\n",
    "# returnatimefrom,returnatimeto,stopoverfrom,stopoverto,maxstopovers,connectionsOnDifferentAirport,\n",
    "# returnFromDifferentAirport,returnToDifferentAirport,ref_tasks,innerLimit,selectedAirlines,\n",
    "# selectedStopoverAirports,selectedAirlinesExclude,selectedStopoverAirportsExclude,booking_token,offset,limit,sort,asc}]\n",
    "\"\"\" The code is largely based on the code from this github repository. Code for other flight ticket APIs is also available there\n",
    "\"\"\"\n",
    "# https://github.com/kjam/python_flight_search"
   ]
  },
  {
   "cell_type": "code",
   "execution_count": 303,
   "metadata": {
    "collapsed": true
   },
   "outputs": [],
   "source": [
    "class SkyPickerApi(object):\n",
    "    \"\"\" SkyPicker API. \"\"\"\n",
    "    def __init__(self):\n",
    "        \"\"\" Initializes the API object with URL attributes. \"\"\"\n",
    "        self.base_url = 'https://api.skypicker.com/'\n",
    "        self.path = ''\n",
    "        self.param_str = ''\n",
    "\n",
    "    @property\n",
    "    def full_url(self):\n",
    "        \"\"\" Returns the full URL for requesting the data. \"\"\"\n",
    "        return '{}{}{}'.format(self.base_url, self.path, self.param_str)\n",
    "\n",
    "    def get_request(self):\n",
    "        \"\"\" Requests the API endpoint and returns the response \"\"\"\n",
    "        headers = {'content-type': 'application/json'}\n",
    "        resp = requests.get(self.full_url, headers=headers)\n",
    "        return resp.json()\n",
    "\n",
    "    def search_places(self, place_name, locale=None):\n",
    "        \"\"\" Finds matching place API ids to use for searches.\n",
    "        :param place_name: string of the place name to search for\n",
    "        :kwarg locale: two letter lowercase locale string\n",
    "        returns JSON response\n",
    "        \"\"\"\n",
    "        self.path = 'places'\n",
    "        self.param_str = '?term={}'.format(place_name)\n",
    "        if locale:\n",
    "            self.param_str += '&locale={}'.format(locale)\n",
    "        return self.get_request()\n",
    "\n",
    "    def search_flights(self, origin, destination, start_date, end_date, return_date_from, return_date_to, \n",
    "                       num_passengers, currency, typeFlight, connections):\n",
    "        \"\"\" Searches for flights given a time range and origin and destination.\n",
    "        :param origin: string representing the ID or IATA\n",
    "        :param destination: string representing the ID or IATA\n",
    "        :param start_date: datetime representing first possible travel date\n",
    "        :param end_date: datetime representing last possible travel date\n",
    "        :param return_date_from: datetime representing first possible return date\n",
    "        :param return_date_to: datetime representing last possible return date\n",
    "        :param num_passengers: integer\n",
    "        :param currency: name of currency - e.g. USD or EUR\n",
    "        :param typeFlight: oneway for one-way flights, round for two-way flights\n",
    "        returns response in JSON format - list of dictionaries\n",
    "        \"\"\"\n",
    "        \"\"\" Searching through flights\"\"\"\n",
    "        self.path = 'flights'\n",
    "        \"\"\" Setting main search parameters \"\"\"\n",
    "        self.param_str = '?flyFrom=' + \\\n",
    "            '{}&to={}&dateFrom={}&dateTo={}&returnFrom={}&returnTo={}&passengers={}&curr={}&typeFlight={}&maxstopovers={}'.format(\n",
    "                origin, destination, start_date.strftime('%d/%m/%Y'), end_date.strftime('%d/%m/%Y'), \n",
    "                return_date_from.strftime('%d/%m/%Y'), return_date_to.strftime('%d/%m/%Y'),\n",
    "                num_passengers, currency, typeFlight, connections)\n",
    "        \"\"\" SkyPicker API. \"\"\"\n",
    "        \"\"\" Sending request to the API - if no flights satisfy the search, this object will have no entries\"\"\"\n",
    "        resp = self.get_request()\n",
    "        \"\"\" Empty List of Flights \"\"\"\n",
    "        flights = []\n",
    "        \"\"\" For loop that fills the list of flights based on the API request output\"\"\"\n",
    "        \"\"\" Data Reporting Section of the Code \"\"\"\n",
    "        for flight in resp.get('data'):\n",
    "            \"\"\" For each flight from resp we take different info\"\"\"\n",
    "            flight_info = {\n",
    "                'price': flight.get('price'),\n",
    "                'currency': resp.get('currency'),\n",
    "                'legs': []\n",
    "            }\n",
    "            \"\"\" Each flight has >=1 legs, for each leg we extract and compute some info\"\"\"\n",
    "            \"\"\"Local Departure and Arrival Time are Reported Here\"\"\"  \n",
    "            for route in flight['route']:\n",
    "                flight_info['legs'].append({\n",
    "                    'carrier': route['airline'], \n",
    "                    'departure': datetime.fromtimestamp(\n",
    "                        route.get('dTime')),\n",
    "                    'arrival': datetime.fromtimestamp(\n",
    "                        route.get('aTime')),\n",
    "                    'duration': (datetime.utcfromtimestamp(\n",
    "                        route.get('aTimeUTC')) - datetime.utcfromtimestamp(\n",
    "                        route.get('dTimeUTC'))).total_seconds()/3600,\n",
    "                    'from': '{} ({},longitude:{},latitude:{})'.format(route['cityFrom'], route['flyFrom'], route['lngFrom'], route['latFrom']),\n",
    "                    'to': '{} ({},longitude:{},latitude:{})'.format(route['cityTo'], route['flyTo'], route['lngTo'], route['latTo']), \n",
    "                })\n",
    "            flight_info['carrier'] = ', '.join(set([c.get('carrier') for c\n",
    "                                                    in flight_info['legs']]))\n",
    "            flights.append(flight_info)\n",
    "        return flights"
   ]
  },
  {
   "cell_type": "code",
   "execution_count": 304,
   "metadata": {
    "collapsed": true
   },
   "outputs": [],
   "source": [
    "\"\"\" When you are dealing with a class, you have to initialize an instant of this class. This line accomplishes this\"\"\"\n",
    "inst = SkyPickerApi()"
   ]
  },
  {
   "cell_type": "code",
   "execution_count": 305,
   "metadata": {},
   "outputs": [],
   "source": [
    "\"\"\" After initializing an intant you can call functions that are included in the class. In this case we are searching \n",
    "for two-way flights from JFK to SFO that depart on March 29 and return on March 31. \"\"\"\n",
    "res = inst.search_flights('SFO', 'YYZ', datetime(2018,8,15), datetime(2018,8,15), \n",
    "                           datetime(2018,8,23), datetime(2018,8,23), 1, 'USD', 'oneway', 2)\n"
   ]
  },
  {
   "cell_type": "code",
   "execution_count": 306,
   "metadata": {},
   "outputs": [
    {
     "data": {
      "text/plain": [
       "{u'carrier': u'DL',\n",
       " u'currency': u'USD',\n",
       " u'legs': [{u'arrival': datetime.datetime(2018, 8, 15, 22, 43),\n",
       "   u'carrier': u'DL',\n",
       "   u'departure': datetime.datetime(2018, 8, 15, 15, 15),\n",
       "   u'duration': 4.466666666666667,\n",
       "   u'from': u'San Francisco (SFO,longitude:-122.39167,latitude:37.618889)',\n",
       "   u'to': u'Cincinnati (CVG,longitude:-84.667778,latitude:39.048889)'},\n",
       "  {u'arrival': datetime.datetime(2018, 8, 16, 1, 50),\n",
       "   u'carrier': u'DL',\n",
       "   u'departure': datetime.datetime(2018, 8, 16, 0, 20),\n",
       "   u'duration': 1.5,\n",
       "   u'from': u'Cincinnati (CVG,longitude:-84.667778,latitude:39.048889)',\n",
       "   u'to': u'Toronto (YYZ,longitude:-79.630556,latitude:43.677222)'}],\n",
       " u'price': 179}"
      ]
     },
     "execution_count": 306,
     "metadata": {},
     "output_type": "execute_result"
    }
   ],
   "source": [
    "\"\"\" This is the summary of information about the first flight\"\"\"\n",
    "res[0]"
   ]
  },
  {
   "cell_type": "code",
   "execution_count": 307,
   "metadata": {},
   "outputs": [
    {
     "name": "stdout",
     "output_type": "stream",
     "text": [
      "[u'DL', u'AS', u'UA', u'WS', u'AC', u'B6', u'SY']\n"
     ]
    }
   ],
   "source": [
    "carrier = []\n",
    "for x in res:\n",
    "    for i in x['legs']:\n",
    "        if i['carrier'] not in carrier:\n",
    "            carrier.append(i['carrier'])                     \n",
    "print(carrier)"
   ]
  },
  {
   "cell_type": "code",
   "execution_count": 308,
   "metadata": {},
   "outputs": [],
   "source": [
    "\"\"\" Empty List of flight durations \"\"\"\n",
    "duration = []\n",
    "\"\"\" Running a for loop to complete the total scheduled duration of all flight legs\"\"\"\n",
    "for x in res:\n",
    "    dur = 0\n",
    "    \"\"\" Looping over individual flight legs for each flight to extract flight time\"\"\"\n",
    "    for i in x['legs']:\n",
    "        dur += i['duration']\n",
    "    duration.append(dur)\n",
    "\"\"\" Empty List of Flight Prices \"\"\"\n",
    "price = []\n",
    "\"\"\" Looping over flights to get out the price for each flight \"\"\"\n",
    "for x in res:\n",
    "    price.append(x['price'])\n"
   ]
  },
  {
   "cell_type": "code",
   "execution_count": 309,
   "metadata": {},
   "outputs": [
    {
     "data": {
      "image/png": "[encoded data removed]",
      "text/plain": [
       "<matplotlib.figure.Figure at 0x119e8d490>"
      ]
     },
     "metadata": {},
     "output_type": "display_data"
    }
   ],
   "source": [
    "plt.scatter(duration, price)\n",
    "# plt.xlim(12, 19)\n",
    "# plt.ylim(200, 3000)\n",
    "plt.show()"
   ]
  },
  {
   "cell_type": "code",
   "execution_count": 310,
   "metadata": {
    "collapsed": true
   },
   "outputs": [],
   "source": [
    "depature_time = [] \n",
    "arrival_time = []\n",
    "for x in res: \n",
    "    depature_time.append(x['legs'][0]['departure'].strftime('%H:%M')) \n",
    "    arrival_time.append(x['legs'][-1]['arrival'].strftime('%H:%M'))"
   ]
  },
  {
   "cell_type": "code",
   "execution_count": 311,
   "metadata": {},
   "outputs": [
    {
     "data": {
      "image/png": "[encoded data removed]",
      "text/plain": [
       "<matplotlib.figure.Figure at 0x119fa8750>"
      ]
     },
     "metadata": {},
     "output_type": "display_data"
    }
   ],
   "source": [
    "plt.scatter(depature_time, price) \n",
    "plt.gcf().autofmt_xdate(rotation = 90) \n",
    "plt.show()"
   ]
  },
  {
   "cell_type": "code",
   "execution_count": 312,
   "metadata": {},
   "outputs": [
    {
     "data": {
      "image/png": "[encoded data removed]",
      "text/plain": [
       "<matplotlib.figure.Figure at 0x11a2a5510>"
      ]
     },
     "metadata": {},
     "output_type": "display_data"
    }
   ],
   "source": [
    "plt.scatter(arrival_time, price) \n",
    "plt.gcf().autofmt_xdate(rotation = 90) \n",
    "plt.show()"
   ]
  },
  {
   "cell_type": "code",
   "execution_count": 313,
   "metadata": {},
   "outputs": [],
   "source": [
    "for x in res:\n",
    "    x['departure'] = x['legs'][0]['departure'].strftime('%H:%M')\n",
    "    x['arrival'] = x['legs'][-1]['arrival'].strftime('%H:%M')\n",
    "data = DataFrame(res) "
   ]
  },
  {
   "cell_type": "code",
   "execution_count": 314,
   "metadata": {},
   "outputs": [
    {
     "data": {
      "text/html": [
       "<div>\n",
       "<style>\n",
       "    .dataframe thead tr:only-child th {\n",
       "        text-align: right;\n",
       "    }\n",
       "\n",
       "    .dataframe thead th {\n",
       "        text-align: left;\n",
       "    }\n",
       "\n",
       "    .dataframe tbody tr th {\n",
       "        vertical-align: top;\n",
       "    }\n",
       "</style>\n",
       "<table border=\"1\" class=\"dataframe\">\n",
       "  <thead>\n",
       "    <tr style=\"text-align: right;\">\n",
       "      <th></th>\n",
       "      <th>price</th>\n",
       "    </tr>\n",
       "  </thead>\n",
       "  <tbody>\n",
       "    <tr>\n",
       "      <th>count</th>\n",
       "      <td>100.000000</td>\n",
       "    </tr>\n",
       "    <tr>\n",
       "      <th>mean</th>\n",
       "      <td>332.660000</td>\n",
       "    </tr>\n",
       "    <tr>\n",
       "      <th>std</th>\n",
       "      <td>91.089613</td>\n",
       "    </tr>\n",
       "    <tr>\n",
       "      <th>min</th>\n",
       "      <td>179.000000</td>\n",
       "    </tr>\n",
       "    <tr>\n",
       "      <th>25%</th>\n",
       "      <td>247.250000</td>\n",
       "    </tr>\n",
       "    <tr>\n",
       "      <th>50%</th>\n",
       "      <td>326.500000</td>\n",
       "    </tr>\n",
       "    <tr>\n",
       "      <th>75%</th>\n",
       "      <td>402.250000</td>\n",
       "    </tr>\n",
       "    <tr>\n",
       "      <th>max</th>\n",
       "      <td>709.000000</td>\n",
       "    </tr>\n",
       "  </tbody>\n",
       "</table>\n",
       "</div>"
      ],
      "text/plain": [
       "            price\n",
       "count  100.000000\n",
       "mean   332.660000\n",
       "std     91.089613\n",
       "min    179.000000\n",
       "25%    247.250000\n",
       "50%    326.500000\n",
       "75%    402.250000\n",
       "max    709.000000"
      ]
     },
     "execution_count": 314,
     "metadata": {},
     "output_type": "execute_result"
    }
   ],
   "source": [
    "data.describe()"
   ]
  },
  {
   "cell_type": "code",
   "execution_count": 315,
   "metadata": {},
   "outputs": [
    {
     "data": {
      "image/png": "[encoded data removed]",
      "text/plain": [
       "<matplotlib.figure.Figure at 0x11a2d4090>"
      ]
     },
     "metadata": {},
     "output_type": "display_data"
    }
   ],
   "source": [
    "plt.hist(price) \n",
    "plt.show()"
   ]
  }
 ],
 "metadata": {
  "anaconda-cloud": {},
  "kernelspec": {
   "display_name": "Python 2",
   "language": "python",
   "name": "python2"
  },
  "language_info": {
   "codemirror_mode": {
    "name": "ipython",
    "version": 2
   },
   "file_extension": ".py",
   "mimetype": "text/x-python",
   "name": "python",
   "nbconvert_exporter": "python",
   "pygments_lexer": "ipython2",
   "version": "2.7.14"
  }
 },
 "nbformat": 4,
 "nbformat_minor": 1
}
